{
  "nbformat": 4,
  "nbformat_minor": 0,
  "metadata": {
    "colab": {
      "name": "Food_originCNN.ipynb",
      "provenance": [],
      "authorship_tag": "ABX9TyMxLazHdULYkzK/5Te0oWtA",
      "include_colab_link": true
    },
    "kernelspec": {
      "name": "python3",
      "display_name": "Python 3"
    },
    "accelerator": "GPU"
  },
  "cells": [
    {
      "cell_type": "markdown",
      "metadata": {
        "id": "view-in-github",
        "colab_type": "text"
      },
      "source": [
        "<a href=\"https://colab.research.google.com/github/ellieytc/CaseStudy.DeepLearning/blob/master/Food_originCNN.ipynb\" target=\"_parent\"><img src=\"https://colab.research.google.com/assets/colab-badge.svg\" alt=\"Open In Colab\"/></a>"
      ]
    },
    {
      "cell_type": "code",
      "metadata": {
        "id": "Kb20eIjAAdHO",
        "colab_type": "code",
        "colab": {
          "base_uri": "https://localhost:8080/",
          "height": 357
        },
        "outputId": "2e76f0b1-1efa-4b3d-db7c-ccdb76a6ebf0"
      },
      "source": [
        "!nvidia-smi"
      ],
      "execution_count": 1,
      "outputs": [
        {
          "output_type": "stream",
          "text": [
            "Tue Aug 18 10:07:07 2020       \n",
            "+-----------------------------------------------------------------------------+\n",
            "| NVIDIA-SMI 450.57       Driver Version: 418.67       CUDA Version: 10.1     |\n",
            "|-------------------------------+----------------------+----------------------+\n",
            "| GPU  Name        Persistence-M| Bus-Id        Disp.A | Volatile Uncorr. ECC |\n",
            "| Fan  Temp  Perf  Pwr:Usage/Cap|         Memory-Usage | GPU-Util  Compute M. |\n",
            "|                               |                      |               MIG M. |\n",
            "|===============================+======================+======================|\n",
            "|   0  Tesla K80           Off  | 00000000:00:04.0 Off |                    0 |\n",
            "| N/A   36C    P8    26W / 149W |      0MiB / 11441MiB |      0%      Default |\n",
            "|                               |                      |                 ERR! |\n",
            "+-------------------------------+----------------------+----------------------+\n",
            "                                                                               \n",
            "+-----------------------------------------------------------------------------+\n",
            "| Processes:                                                                  |\n",
            "|  GPU   GI   CI        PID   Type   Process name                  GPU Memory |\n",
            "|        ID   ID                                                   Usage      |\n",
            "|=============================================================================|\n",
            "|  No running processes found                                                 |\n",
            "+-----------------------------------------------------------------------------+\n"
          ],
          "name": "stdout"
        }
      ]
    },
    {
      "cell_type": "markdown",
      "metadata": {
        "id": "eyKfASLZD4_E",
        "colab_type": "text"
      },
      "source": [
        "## download data"
      ]
    },
    {
      "cell_type": "code",
      "metadata": {
        "id": "Fu9aqxIsCQ41",
        "colab_type": "code",
        "colab": {
          "base_uri": "https://localhost:8080/",
          "height": 292
        },
        "outputId": "bd09b754-9300-44cc-c057-7e5d44efeca1"
      },
      "source": [
        "import os\n",
        "import zipfile\n",
        "from google.colab import drive\n",
        "drive.mount('/content/drive')\n",
        "\n",
        "path = '/content/drive/My Drive/Tibame/dataset/food_img.zip'\n",
        "\n",
        "zip_ref = zipfile.ZipFile(path, 'r')\n",
        "zip_ref.extractall('/tmp')\n",
        "zip_ref.close()\n",
        "\n",
        "os.chdir('/tmp/food_img')\n",
        "os.listdir('/tmp/food_img')"
      ],
      "execution_count": 2,
      "outputs": [
        {
          "output_type": "stream",
          "text": [
            "Go to this URL in a browser: https://accounts.google.com/o/oauth2/auth?client_id=947318989803-6bn6qk8qdgf4n4g3pfee6491hc0brc4i.apps.googleusercontent.com&redirect_uri=urn%3aietf%3awg%3aoauth%3a2.0%3aoob&scope=email%20https%3a%2f%2fwww.googleapis.com%2fauth%2fdocs.test%20https%3a%2f%2fwww.googleapis.com%2fauth%2fdrive%20https%3a%2f%2fwww.googleapis.com%2fauth%2fdrive.photos.readonly%20https%3a%2f%2fwww.googleapis.com%2fauth%2fpeopleapi.readonly&response_type=code\n",
            "\n",
            "Enter your authorization code:\n",
            "··········\n",
            "Mounted at /content/drive\n"
          ],
          "name": "stdout"
        },
        {
          "output_type": "execute_result",
          "data": {
            "text/plain": [
              "['chicken',\n",
              " 'cabbage',\n",
              " 'tomato',\n",
              " 'cucumber',\n",
              " 'radish',\n",
              " 'apple',\n",
              " 'carrot',\n",
              " 'potato',\n",
              " 'mushroom',\n",
              " 'egg']"
            ]
          },
          "metadata": {
            "tags": []
          },
          "execution_count": 2
        }
      ]
    },
    {
      "cell_type": "markdown",
      "metadata": {
        "id": "axkx85SWFv6s",
        "colab_type": "text"
      },
      "source": [
        "## import library"
      ]
    },
    {
      "cell_type": "code",
      "metadata": {
        "id": "xmsTGyXyFurL",
        "colab_type": "code",
        "colab": {
          "base_uri": "https://localhost:8080/",
          "height": 71
        },
        "outputId": "b8ea6bb0-0c80-4bb2-9a98-6a367833e8ec"
      },
      "source": [
        "from keras.models import Sequential\n",
        "from keras.models import load_model\n",
        "from keras.layers.convolutional import Conv2D, MaxPooling2D\n",
        "from keras.layers.core import Activation, Flatten, Dense, Dropout\n",
        "from keras import backend as K\n",
        "from keras.utils import np_utils\n",
        "from keras.optimizers import SGD, RMSprop, Adam\n",
        "import numpy as np\n",
        "import matplotlib.pyplot as plt\n",
        "import tensorflow as tf\n",
        "import seaborn as sns\n",
        "from keras.preprocessing import image\n",
        "import keras\n",
        "from keras.preprocessing.image import ImageDataGenerator\n",
        "from keras.utils import np_utils\n",
        "from sklearn.model_selection import train_test_split\n",
        "from keras.callbacks import TensorBoard\n",
        "from keras.callbacks import ModelCheckpoint\n",
        "from PIL import ImageFile\n",
        "ImageFile.LOAD_TRUNCATED_IMAGES = True\n",
        "import random, os, pickle"
      ],
      "execution_count": 4,
      "outputs": [
        {
          "output_type": "stream",
          "text": [
            "/usr/local/lib/python3.6/dist-packages/statsmodels/tools/_testing.py:19: FutureWarning: pandas.util.testing is deprecated. Use the functions in the public API at pandas.testing instead.\n",
            "  import pandas.util.testing as tm\n"
          ],
          "name": "stderr"
        }
      ]
    },
    {
      "cell_type": "markdown",
      "metadata": {
        "id": "6-OKe2iNF3Rb",
        "colab_type": "text"
      },
      "source": [
        "## data preprocessing"
      ]
    },
    {
      "cell_type": "code",
      "metadata": {
        "id": "gj7uvqZpDP5L",
        "colab_type": "code",
        "colab": {
          "base_uri": "https://localhost:8080/",
          "height": 71
        },
        "outputId": "a67c4092-c866-4335-9a08-55933578435e"
      },
      "source": [
        "def read_and_process_image(data_dir,width=32, height=32, channels=3, preprocess=False):\n",
        "    train_classes= [data_dir + \"/\" +  i for i in os.listdir(data_dir) ]\n",
        "    train_images = []\n",
        "    for train_class in train_classes:\n",
        "        train_images= train_images + [train_class + \"/\" + i for i in os.listdir(train_class)]\n",
        "    random.shuffle(train_images)\n",
        "    print(train_images[0:10])\n",
        "\n",
        "    def read_image(file_path, preprocess):\n",
        "        img = image.load_img(file_path, target_size=(height, width))\n",
        "        x = image.img_to_array(img)\n",
        "        x = np.expand_dims(x, axis=0)\n",
        "        # if preprocess:\n",
        "            # x = preprocess_input(x)\n",
        "        return x\n",
        "    \n",
        "    def prep_data(images, preprocess):\n",
        "        count = len(images)\n",
        "        data = np.ndarray((count, height, width, channels), dtype = np.float32)\n",
        "        print(data.shape)\n",
        "        for i, image_file in enumerate(images):\n",
        "            image = read_image(image_file, preprocess)\n",
        "            data[i] = image\n",
        "        return data\n",
        "\n",
        "    def read_labels(file_path):\n",
        "        labels = []\n",
        "        for i in file_path:\n",
        "            if 'apple' in i:\n",
        "                label = 0\n",
        "            elif 'cabbage' in i:\n",
        "                label = 1\n",
        "            elif 'carrot' in i:\n",
        "                label = 2\n",
        "            elif 'chicken' in i:\n",
        "                label = 3\n",
        "            elif 'cucumber' in i:\n",
        "                label = 4\n",
        "            elif 'egg' in i:\n",
        "                label = 5\n",
        "            elif 'mushroom' in i:\n",
        "                label = 6\n",
        "            elif 'potato' in i:\n",
        "                label = 7\n",
        "            elif 'radish' in i:\n",
        "                label = 8\n",
        "            elif 'tomato' in i:\n",
        "                label = 9\n",
        "            labels.append(label)\n",
        "        \n",
        "        return labels\n",
        "    \n",
        "    X = prep_data(train_images, preprocess)\n",
        "    labels = read_labels(train_images)\n",
        "    \n",
        "    assert X.shape[0] == len(labels)\n",
        "    \n",
        "    #print(\"Train shape: {}\".format(X.shape))\n",
        "    #print(\"Train shape: {}\".format(len(labels)))\n",
        "    return X, labels\n",
        "\n",
        "x,y = read_and_process_image('/tmp/food_img') "
      ],
      "execution_count": 5,
      "outputs": [
        {
          "output_type": "stream",
          "text": [
            "['/tmp/food_img/carrot/carrot_115.jpg', '/tmp/food_img/apple/apple_525.jpg', '/tmp/food_img/tomato/tomato_817.jpg', '/tmp/food_img/potato/potato_121.jpg', '/tmp/food_img/tomato/tomato_382.jpg', '/tmp/food_img/cucumber/cucumber_441.jpg', '/tmp/food_img/cucumber/cucumber_190.jpg', '/tmp/food_img/mushroom/mushroom_197.jpg', '/tmp/food_img/apple/apple_203.jpg', '/tmp/food_img/apple/apple_370.jpg']\n",
            "(6972, 32, 32, 3)\n"
          ],
          "name": "stdout"
        }
      ]
    },
    {
      "cell_type": "code",
      "metadata": {
        "id": "5f4HQdqdFp7o",
        "colab_type": "code",
        "colab": {}
      },
      "source": [
        "# create train/test dataset\n",
        "x_train , x_test, y_train, y_test = train_test_split(x,y,test_size=0.2,random_state=100)\n",
        "\n",
        "# 圖片特徵值標準化\n",
        "x_train = x_train / 255\n",
        "x_test = x_test / 255\n",
        "\n",
        "#label以onehot encoding轉換\n",
        "y_train = np_utils.to_categorical(y_train)\n",
        "y_test_categories = y_test\n",
        "y_test = np_utils.to_categorical(y_test)"
      ],
      "execution_count": 6,
      "outputs": []
    },
    {
      "cell_type": "code",
      "metadata": {
        "id": "VDjIHEgKGQ9K",
        "colab_type": "code",
        "colab": {
          "base_uri": "https://localhost:8080/",
          "height": 187
        },
        "outputId": "ff3fdd1a-d239-4896-ef6f-eaf9000b3cba"
      },
      "source": [
        "# write dataset to pkl\n",
        "output = open(\"food_dataset.pkl\", \"wb\")\n",
        "pickle.dump({\"x_train\":x_train, \"y_train\":y_train, \"x_test\":x_test, \"y_test\":y_test}, output)\n",
        "output.close()\n",
        "\n",
        "# read dataset\n",
        "with open(\"food_dataset.pkl\", 'rb') as fo:\n",
        "    data = pickle.load(fo, encoding='bytes')\n",
        "    \n",
        "# print(data[\"x_train\"].shape)\n",
        "print(data[\"y_train\"])\n",
        "print()\n",
        "print('x_train.shape={}, y_train.shape={}'.format(x_train.shape, y_train.shape))\n",
        "print('x_test.shape={}, y_test.shape={}'.format(x_test.shape, y_test.shape))"
      ],
      "execution_count": 7,
      "outputs": [
        {
          "output_type": "stream",
          "text": [
            "[[0. 0. 0. ... 0. 1. 0.]\n",
            " [0. 0. 0. ... 0. 0. 0.]\n",
            " [1. 0. 0. ... 0. 0. 0.]\n",
            " ...\n",
            " [0. 0. 0. ... 0. 0. 0.]\n",
            " [0. 0. 0. ... 1. 0. 0.]\n",
            " [0. 0. 0. ... 0. 1. 0.]]\n",
            "\n",
            "x_train.shape=(5577, 32, 32, 3), y_train.shape=(5577, 10)\n",
            "x_test.shape=(1395, 32, 32, 3), y_test.shape=(1395, 10)\n"
          ],
          "name": "stdout"
        }
      ]
    },
    {
      "cell_type": "markdown",
      "metadata": {
        "id": "_D65tVagGlaZ",
        "colab_type": "text"
      },
      "source": [
        "## Build model"
      ]
    },
    {
      "cell_type": "code",
      "metadata": {
        "id": "9Fhl0r5oGZ7n",
        "colab_type": "code",
        "colab": {}
      },
      "source": [
        "# 建立一個線性堆疊模型，後續只需要將各神經網路層加入模型即可\n",
        "model = Sequential()\n",
        "\n",
        "# 建立卷積層1與池化層1\n",
        "model.add(Conv2D(filters=32, kernel_size=(3, 3),\n",
        "                input_shape=(32, 32, 3),\n",
        "                activation='relu',\n",
        "                padding='same'))\n",
        "\n",
        "model.add(MaxPooling2D(pool_size=(2, 2)))\n",
        "\n",
        "# 建立卷積層2與池化層2\n",
        "model.add(Conv2D(filters=64, kernel_size=(3, 3),\n",
        "                 activation='relu', padding='same'))\n",
        "model.add(MaxPooling2D(pool_size=(2, 2)))\n",
        "\n",
        "\n",
        "# 建立神經網路的平坦層\n",
        "model.add(Flatten())\n",
        "\n",
        "# 建立神經網路的隱藏層\n",
        "model.add(Dense(1024, activation='relu'))\n",
        "\n",
        "# 建立神經網路的輸出層\n",
        "model.add(Dense(10, activation='softmax'))"
      ],
      "execution_count": 9,
      "outputs": []
    },
    {
      "cell_type": "code",
      "metadata": {
        "id": "yAhmIvrqGqnK",
        "colab_type": "code",
        "colab": {
          "base_uri": "https://localhost:8080/",
          "height": 408
        },
        "outputId": "6d0aef19-95d3-4c0b-e5af-72b98f588f13"
      },
      "source": [
        "# 查看模型摘要\n",
        "print(model.summary())"
      ],
      "execution_count": 10,
      "outputs": [
        {
          "output_type": "stream",
          "text": [
            "Model: \"sequential\"\n",
            "_________________________________________________________________\n",
            "Layer (type)                 Output Shape              Param #   \n",
            "=================================================================\n",
            "conv2d (Conv2D)              (None, 32, 32, 32)        896       \n",
            "_________________________________________________________________\n",
            "max_pooling2d (MaxPooling2D) (None, 16, 16, 32)        0         \n",
            "_________________________________________________________________\n",
            "conv2d_1 (Conv2D)            (None, 16, 16, 64)        18496     \n",
            "_________________________________________________________________\n",
            "max_pooling2d_1 (MaxPooling2 (None, 8, 8, 64)          0         \n",
            "_________________________________________________________________\n",
            "flatten (Flatten)            (None, 4096)              0         \n",
            "_________________________________________________________________\n",
            "dense (Dense)                (None, 1024)              4195328   \n",
            "_________________________________________________________________\n",
            "dense_1 (Dense)              (None, 10)                10250     \n",
            "=================================================================\n",
            "Total params: 4,224,970\n",
            "Trainable params: 4,224,970\n",
            "Non-trainable params: 0\n",
            "_________________________________________________________________\n",
            "None\n"
          ],
          "name": "stdout"
        }
      ]
    },
    {
      "cell_type": "markdown",
      "metadata": {
        "id": "bNuFLsQtGxpZ",
        "colab_type": "text"
      },
      "source": [
        "## Train model"
      ]
    },
    {
      "cell_type": "code",
      "metadata": {
        "id": "SqCenL1kGt9s",
        "colab_type": "code",
        "colab": {}
      },
      "source": [
        "# 使用compile方法，對訓練模型進行設定\n",
        "model.compile(optimizer=RMSprop(lr=0.0001),\n",
        "              loss='categorical_crossentropy',\n",
        "              metrics=['accuracy'])"
      ],
      "execution_count": 11,
      "outputs": []
    },
    {
      "cell_type": "code",
      "metadata": {
        "id": "831T9zyUG2EQ",
        "colab_type": "code",
        "colab": {
          "base_uri": "https://localhost:8080/",
          "height": 1000
        },
        "outputId": "6e05f820-1dfe-4d86-eace-1074e754483b"
      },
      "source": [
        "# 開始訓練\n",
        "# 輸入訓練資料參數 x = x_img_train_normalize, y = y_label_train_OneHot\n",
        "# 設定訓練與驗證資料比例 80/20\n",
        "# 設定epoch(訓練週期)次數與每一批次筆數\n",
        "# 設定顯示訓練過程 verbose=1\n",
        "train_history = model.fit(x=x_train, y=y_train,\n",
        "                          validation_data=(x_test, y_test),\n",
        "                          validation_split=0.2,\n",
        "                          epochs=50,\n",
        "                          batch_size=32,\n",
        "                          verbose=1)"
      ],
      "execution_count": 12,
      "outputs": [
        {
          "output_type": "stream",
          "text": [
            "Epoch 1/50\n",
            "140/140 [==============================] - 2s 12ms/step - loss: 1.7457 - accuracy: 0.3753 - val_loss: 1.5084 - val_accuracy: 0.4713\n",
            "Epoch 2/50\n",
            "140/140 [==============================] - 1s 10ms/step - loss: 1.3672 - accuracy: 0.5012 - val_loss: 1.3665 - val_accuracy: 0.4606\n",
            "Epoch 3/50\n",
            "140/140 [==============================] - 1s 10ms/step - loss: 1.1989 - accuracy: 0.5761 - val_loss: 1.2265 - val_accuracy: 0.5412\n",
            "Epoch 4/50\n",
            "140/140 [==============================] - 1s 10ms/step - loss: 1.0655 - accuracy: 0.6140 - val_loss: 1.0840 - val_accuracy: 0.6030\n",
            "Epoch 5/50\n",
            "140/140 [==============================] - 1s 9ms/step - loss: 0.9789 - accuracy: 0.6514 - val_loss: 1.0483 - val_accuracy: 0.6066\n",
            "Epoch 6/50\n",
            "140/140 [==============================] - 1s 10ms/step - loss: 0.8842 - accuracy: 0.6945 - val_loss: 0.9867 - val_accuracy: 0.6308\n",
            "Epoch 7/50\n",
            "140/140 [==============================] - 1s 9ms/step - loss: 0.8283 - accuracy: 0.7115 - val_loss: 0.9083 - val_accuracy: 0.6774\n",
            "Epoch 8/50\n",
            "140/140 [==============================] - 1s 9ms/step - loss: 0.7819 - accuracy: 0.7344 - val_loss: 0.9483 - val_accuracy: 0.6416\n",
            "Epoch 9/50\n",
            "140/140 [==============================] - 1s 9ms/step - loss: 0.7384 - accuracy: 0.7409 - val_loss: 0.9549 - val_accuracy: 0.6595\n",
            "Epoch 10/50\n",
            "140/140 [==============================] - 1s 9ms/step - loss: 0.6992 - accuracy: 0.7530 - val_loss: 0.8753 - val_accuracy: 0.6810\n",
            "Epoch 11/50\n",
            "140/140 [==============================] - 1s 9ms/step - loss: 0.6664 - accuracy: 0.7655 - val_loss: 0.9339 - val_accuracy: 0.6398\n",
            "Epoch 12/50\n",
            "140/140 [==============================] - 1s 9ms/step - loss: 0.6317 - accuracy: 0.7810 - val_loss: 0.8500 - val_accuracy: 0.6980\n",
            "Epoch 13/50\n",
            "140/140 [==============================] - 1s 9ms/step - loss: 0.6094 - accuracy: 0.7920 - val_loss: 0.8430 - val_accuracy: 0.7016\n",
            "Epoch 14/50\n",
            "140/140 [==============================] - 1s 10ms/step - loss: 0.5861 - accuracy: 0.7976 - val_loss: 0.7880 - val_accuracy: 0.7106\n",
            "Epoch 15/50\n",
            "140/140 [==============================] - 1s 10ms/step - loss: 0.5539 - accuracy: 0.8128 - val_loss: 0.8539 - val_accuracy: 0.7025\n",
            "Epoch 16/50\n",
            "140/140 [==============================] - 1s 9ms/step - loss: 0.5303 - accuracy: 0.8243 - val_loss: 0.8439 - val_accuracy: 0.7043\n",
            "Epoch 17/50\n",
            "140/140 [==============================] - 1s 10ms/step - loss: 0.5077 - accuracy: 0.8299 - val_loss: 0.8661 - val_accuracy: 0.6891\n",
            "Epoch 18/50\n",
            "140/140 [==============================] - 1s 9ms/step - loss: 0.4783 - accuracy: 0.8390 - val_loss: 0.9821 - val_accuracy: 0.6586\n",
            "Epoch 19/50\n",
            "140/140 [==============================] - 1s 10ms/step - loss: 0.4664 - accuracy: 0.8456 - val_loss: 0.8302 - val_accuracy: 0.7043\n",
            "Epoch 20/50\n",
            "140/140 [==============================] - 1s 9ms/step - loss: 0.4431 - accuracy: 0.8541 - val_loss: 0.8879 - val_accuracy: 0.6918\n",
            "Epoch 21/50\n",
            "140/140 [==============================] - 1s 9ms/step - loss: 0.4242 - accuracy: 0.8568 - val_loss: 0.7593 - val_accuracy: 0.7267\n",
            "Epoch 22/50\n",
            "140/140 [==============================] - 1s 9ms/step - loss: 0.4031 - accuracy: 0.8695 - val_loss: 0.9843 - val_accuracy: 0.6649\n",
            "Epoch 23/50\n",
            "140/140 [==============================] - 1s 10ms/step - loss: 0.3862 - accuracy: 0.8760 - val_loss: 0.7715 - val_accuracy: 0.7222\n",
            "Epoch 24/50\n",
            "140/140 [==============================] - 1s 10ms/step - loss: 0.3680 - accuracy: 0.8794 - val_loss: 0.8643 - val_accuracy: 0.7079\n",
            "Epoch 25/50\n",
            "140/140 [==============================] - 1s 10ms/step - loss: 0.3489 - accuracy: 0.8857 - val_loss: 0.7332 - val_accuracy: 0.7428\n",
            "Epoch 26/50\n",
            "140/140 [==============================] - 1s 9ms/step - loss: 0.3255 - accuracy: 0.8942 - val_loss: 0.7892 - val_accuracy: 0.7159\n",
            "Epoch 27/50\n",
            "140/140 [==============================] - 1s 10ms/step - loss: 0.3078 - accuracy: 0.9016 - val_loss: 0.8301 - val_accuracy: 0.7159\n",
            "Epoch 28/50\n",
            "140/140 [==============================] - 1s 9ms/step - loss: 0.2952 - accuracy: 0.9150 - val_loss: 0.7931 - val_accuracy: 0.7276\n",
            "Epoch 29/50\n",
            "140/140 [==============================] - 1s 10ms/step - loss: 0.2778 - accuracy: 0.9164 - val_loss: 0.9900 - val_accuracy: 0.6819\n",
            "Epoch 30/50\n",
            "140/140 [==============================] - 1s 9ms/step - loss: 0.2626 - accuracy: 0.9229 - val_loss: 0.7825 - val_accuracy: 0.7348\n",
            "Epoch 31/50\n",
            "140/140 [==============================] - 1s 10ms/step - loss: 0.2476 - accuracy: 0.9292 - val_loss: 0.7822 - val_accuracy: 0.7312\n",
            "Epoch 32/50\n",
            "140/140 [==============================] - 1s 9ms/step - loss: 0.2326 - accuracy: 0.9321 - val_loss: 0.7995 - val_accuracy: 0.7375\n",
            "Epoch 33/50\n",
            "140/140 [==============================] - 1s 9ms/step - loss: 0.2179 - accuracy: 0.9390 - val_loss: 0.7856 - val_accuracy: 0.7321\n",
            "Epoch 34/50\n",
            "140/140 [==============================] - 1s 9ms/step - loss: 0.2100 - accuracy: 0.9379 - val_loss: 1.0422 - val_accuracy: 0.6864\n",
            "Epoch 35/50\n",
            "140/140 [==============================] - 1s 9ms/step - loss: 0.1947 - accuracy: 0.9507 - val_loss: 0.8232 - val_accuracy: 0.7419\n",
            "Epoch 36/50\n",
            "140/140 [==============================] - 1s 9ms/step - loss: 0.1763 - accuracy: 0.9547 - val_loss: 0.9930 - val_accuracy: 0.7007\n",
            "Epoch 37/50\n",
            "140/140 [==============================] - 1s 9ms/step - loss: 0.1682 - accuracy: 0.9583 - val_loss: 0.9109 - val_accuracy: 0.7070\n",
            "Epoch 38/50\n",
            "140/140 [==============================] - 1s 10ms/step - loss: 0.1600 - accuracy: 0.9561 - val_loss: 0.8444 - val_accuracy: 0.7303\n",
            "Epoch 39/50\n",
            "140/140 [==============================] - 1s 9ms/step - loss: 0.1503 - accuracy: 0.9619 - val_loss: 0.8677 - val_accuracy: 0.7276\n",
            "Epoch 40/50\n",
            "140/140 [==============================] - 1s 9ms/step - loss: 0.1360 - accuracy: 0.9688 - val_loss: 0.8227 - val_accuracy: 0.7455\n",
            "Epoch 41/50\n",
            "140/140 [==============================] - 1s 9ms/step - loss: 0.1248 - accuracy: 0.9733 - val_loss: 1.3086 - val_accuracy: 0.6434\n",
            "Epoch 42/50\n",
            "140/140 [==============================] - 1s 10ms/step - loss: 0.1200 - accuracy: 0.9727 - val_loss: 0.8474 - val_accuracy: 0.7428\n",
            "Epoch 43/50\n",
            "140/140 [==============================] - 1s 9ms/step - loss: 0.1129 - accuracy: 0.9747 - val_loss: 0.8574 - val_accuracy: 0.7312\n",
            "Epoch 44/50\n",
            "140/140 [==============================] - 1s 9ms/step - loss: 0.1061 - accuracy: 0.9756 - val_loss: 0.8893 - val_accuracy: 0.7294\n",
            "Epoch 45/50\n",
            "140/140 [==============================] - 1s 9ms/step - loss: 0.0988 - accuracy: 0.9756 - val_loss: 0.9016 - val_accuracy: 0.7455\n",
            "Epoch 46/50\n",
            "140/140 [==============================] - 1s 10ms/step - loss: 0.0903 - accuracy: 0.9803 - val_loss: 1.3498 - val_accuracy: 0.6478\n",
            "Epoch 47/50\n",
            "140/140 [==============================] - 1s 9ms/step - loss: 0.0854 - accuracy: 0.9814 - val_loss: 1.0840 - val_accuracy: 0.7168\n",
            "Epoch 48/50\n",
            "140/140 [==============================] - 1s 9ms/step - loss: 0.0775 - accuracy: 0.9832 - val_loss: 0.8866 - val_accuracy: 0.7464\n",
            "Epoch 49/50\n",
            "140/140 [==============================] - 1s 10ms/step - loss: 0.0724 - accuracy: 0.9850 - val_loss: 0.9576 - val_accuracy: 0.7401\n",
            "Epoch 50/50\n",
            "140/140 [==============================] - 1s 9ms/step - loss: 0.0646 - accuracy: 0.9888 - val_loss: 0.9221 - val_accuracy: 0.7428\n"
          ],
          "name": "stdout"
        }
      ]
    },
    {
      "cell_type": "markdown",
      "metadata": {
        "id": "WwjNMmwRG703",
        "colab_type": "text"
      },
      "source": [
        "## Evaluate the training model"
      ]
    },
    {
      "cell_type": "code",
      "metadata": {
        "id": "4jbUSmegG_JD",
        "colab_type": "code",
        "colab": {}
      },
      "source": [
        "# 定義一個show_train_history function\n",
        "def show_train_history(train_history, train, validation):\n",
        "    plt.plot(train_history.history[train])\n",
        "    plt.plot(train_history.history[validation])\n",
        "    plt.title('Train History')\n",
        "    plt.ylabel('train')\n",
        "    plt.xlabel('Epoch')\n",
        "    plt.legend(['train', 'validation'], loc='center right')\n",
        "    plt.show()"
      ],
      "execution_count": 14,
      "outputs": []
    },
    {
      "cell_type": "code",
      "metadata": {
        "id": "CGwyTtI1HBZ5",
        "colab_type": "code",
        "colab": {
          "base_uri": "https://localhost:8080/",
          "height": 295
        },
        "outputId": "8798a4d4-1fc4-4822-bcc6-48dc21d283d4"
      },
      "source": [
        "# 畫出train與test dataset 訓練過程的準確率\n",
        "show_train_history(train_history, 'accuracy', 'val_accuracy')"
      ],
      "execution_count": 15,
      "outputs": [
        {
          "output_type": "display_data",
          "data": {
            "image/png": "[encoded data removed]",
            "text/plain": [
              "<Figure size 432x288 with 1 Axes>"
            ]
          },
          "metadata": {
            "tags": [],
            "needs_background": "light"
          }
        }
      ]
    },
    {
      "cell_type": "code",
      "metadata": {
        "id": "oGVztdiZHEpu",
        "colab_type": "code",
        "colab": {
          "base_uri": "https://localhost:8080/",
          "height": 295
        },
        "outputId": "2b5f5e8a-f945-4bbf-dd32-9699a93d797b"
      },
      "source": [
        "# 畫出train與test dataset訓練過程的誤差率\n",
        "show_train_history(train_history, 'loss', 'val_loss')"
      ],
      "execution_count": 16,
      "outputs": [
        {
          "output_type": "display_data",
          "data": {
            "image/png": "[encoded data removed]",
            "text/plain": [
              "<Figure size 432x288 with 1 Axes>"
            ]
          },
          "metadata": {
            "tags": [],
            "needs_background": "light"
          }
        }
      ]
    },
    {
      "cell_type": "code",
      "metadata": {
        "id": "_U29LlQtHHPU",
        "colab_type": "code",
        "colab": {
          "base_uri": "https://localhost:8080/",
          "height": 51
        },
        "outputId": "13e7eb8b-cc92-4703-d1fa-782a4e5ee755"
      },
      "source": [
        "scores = model.evaluate(x_test, y_test)\n",
        "scores[1]"
      ],
      "execution_count": 17,
      "outputs": [
        {
          "output_type": "stream",
          "text": [
            "44/44 [==============================] - 0s 5ms/step - loss: 0.8321 - accuracy: 0.7599\n"
          ],
          "name": "stdout"
        },
        {
          "output_type": "execute_result",
          "data": {
            "text/plain": [
              "0.759856641292572"
            ]
          },
          "metadata": {
            "tags": []
          },
          "execution_count": 17
        }
      ]
    },
    {
      "cell_type": "code",
      "metadata": {
        "id": "72p7xXqmHZJy",
        "colab_type": "code",
        "colab": {}
      },
      "source": [
        ""
      ],
      "execution_count": null,
      "outputs": []
    }
  ]
}