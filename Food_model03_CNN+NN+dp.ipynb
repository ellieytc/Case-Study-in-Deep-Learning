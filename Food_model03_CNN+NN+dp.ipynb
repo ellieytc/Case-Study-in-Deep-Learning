{
  "nbformat": 4,
  "nbformat_minor": 0,
  "metadata": {
    "colab": {
      "name": "Food_originCNN + NN+dropout.ipynb",
      "provenance": [],
      "collapsed_sections": [],
      "authorship_tag": "ABX9TyMktGa9uJxb+E+mbzvA5Sun",
      "include_colab_link": true
    },
    "kernelspec": {
      "name": "python3",
      "display_name": "Python 3"
    },
    "accelerator": "GPU"
  },
  "cells": [
    {
      "cell_type": "markdown",
      "metadata": {
        "id": "view-in-github",
        "colab_type": "text"
      },
      "source": [
        "<a href=\"https://colab.research.google.com/github/ellieytc/CaseStudy.DeepLearning/blob/master/Food_originCNN_%2B_NN%2Bdropout.ipynb\" target=\"_parent\"><img src=\"https://colab.research.google.com/assets/colab-badge.svg\" alt=\"Open In Colab\"/></a>"
      ]
    },
    {
      "cell_type": "code",
      "metadata": {
        "id": "Kb20eIjAAdHO",
        "colab_type": "code",
        "colab": {
          "base_uri": "https://localhost:8080/",
          "height": 357
        },
        "outputId": "d194928b-deb2-4c89-d83f-c6acb65b43ce"
      },
      "source": [
        "!nvidia-smi"
      ],
      "execution_count": 1,
      "outputs": [
        {
          "output_type": "stream",
          "text": [
            "Wed Aug 19 07:32:38 2020       \n",
            "+-----------------------------------------------------------------------------+\n",
            "| NVIDIA-SMI 450.57       Driver Version: 418.67       CUDA Version: 10.1     |\n",
            "|-------------------------------+----------------------+----------------------+\n",
            "| GPU  Name        Persistence-M| Bus-Id        Disp.A | Volatile Uncorr. ECC |\n",
            "| Fan  Temp  Perf  Pwr:Usage/Cap|         Memory-Usage | GPU-Util  Compute M. |\n",
            "|                               |                      |               MIG M. |\n",
            "|===============================+======================+======================|\n",
            "|   0  Tesla K80           Off  | 00000000:00:04.0 Off |                    0 |\n",
            "| N/A   52C    P8    30W / 149W |      0MiB / 11441MiB |      0%      Default |\n",
            "|                               |                      |                 ERR! |\n",
            "+-------------------------------+----------------------+----------------------+\n",
            "                                                                               \n",
            "+-----------------------------------------------------------------------------+\n",
            "| Processes:                                                                  |\n",
            "|  GPU   GI   CI        PID   Type   Process name                  GPU Memory |\n",
            "|        ID   ID                                                   Usage      |\n",
            "|=============================================================================|\n",
            "|  No running processes found                                                 |\n",
            "+-----------------------------------------------------------------------------+\n"
          ],
          "name": "stdout"
        }
      ]
    },
    {
      "cell_type": "markdown",
      "metadata": {
        "id": "eyKfASLZD4_E",
        "colab_type": "text"
      },
      "source": [
        "## download data"
      ]
    },
    {
      "cell_type": "code",
      "metadata": {
        "id": "Fu9aqxIsCQ41",
        "colab_type": "code",
        "colab": {
          "base_uri": "https://localhost:8080/",
          "height": 292
        },
        "outputId": "a4211f05-5466-4c67-8c1f-8a26b2e6ed17"
      },
      "source": [
        "import os\n",
        "import zipfile\n",
        "from google.colab import drive\n",
        "drive.mount('/content/drive')\n",
        "\n",
        "path = '/content/drive/My Drive/Tibame/dataset/food_img.zip'\n",
        "\n",
        "zip_ref = zipfile.ZipFile(path, 'r')\n",
        "zip_ref.extractall('/tmp')\n",
        "zip_ref.close()\n",
        "\n",
        "os.chdir('/tmp/food_img')\n",
        "os.listdir('/tmp/food_img')"
      ],
      "execution_count": 2,
      "outputs": [
        {
          "output_type": "stream",
          "text": [
            "Go to this URL in a browser: https://accounts.google.com/o/oauth2/auth?client_id=947318989803-6bn6qk8qdgf4n4g3pfee6491hc0brc4i.apps.googleusercontent.com&redirect_uri=urn%3aietf%3awg%3aoauth%3a2.0%3aoob&scope=email%20https%3a%2f%2fwww.googleapis.com%2fauth%2fdocs.test%20https%3a%2f%2fwww.googleapis.com%2fauth%2fdrive%20https%3a%2f%2fwww.googleapis.com%2fauth%2fdrive.photos.readonly%20https%3a%2f%2fwww.googleapis.com%2fauth%2fpeopleapi.readonly&response_type=code\n",
            "\n",
            "Enter your authorization code:\n",
            "··········\n",
            "Mounted at /content/drive\n"
          ],
          "name": "stdout"
        },
        {
          "output_type": "execute_result",
          "data": {
            "text/plain": [
              "['potato',\n",
              " 'egg',\n",
              " 'cucumber',\n",
              " 'mushroom',\n",
              " 'radish',\n",
              " 'tomato',\n",
              " 'apple',\n",
              " 'carrot',\n",
              " 'cabbage',\n",
              " 'chicken']"
            ]
          },
          "metadata": {
            "tags": []
          },
          "execution_count": 2
        }
      ]
    },
    {
      "cell_type": "markdown",
      "metadata": {
        "id": "axkx85SWFv6s",
        "colab_type": "text"
      },
      "source": [
        "## import library"
      ]
    },
    {
      "cell_type": "code",
      "metadata": {
        "id": "xmsTGyXyFurL",
        "colab_type": "code",
        "colab": {
          "base_uri": "https://localhost:8080/",
          "height": 71
        },
        "outputId": "5a7a042c-97b1-4492-b9ff-9622c37aa98a"
      },
      "source": [
        "from keras.models import Sequential\n",
        "from keras.models import load_model\n",
        "from keras.layers.convolutional import Conv2D, MaxPooling2D\n",
        "from keras.layers.core import Activation, Flatten, Dense, Dropout\n",
        "from keras.utils import np_utils\n",
        "from keras.optimizers import RMSprop\n",
        "import numpy as np\n",
        "import matplotlib.pyplot as plt\n",
        "import tensorflow as tf\n",
        "import seaborn as sns\n",
        "from keras.preprocessing import image\n",
        "import keras\n",
        "from keras.preprocessing.image import ImageDataGenerator\n",
        "from sklearn.model_selection import train_test_split\n",
        "from PIL import ImageFile\n",
        "ImageFile.LOAD_TRUNCATED_IMAGES = True\n",
        "import random, os, pickle"
      ],
      "execution_count": 3,
      "outputs": [
        {
          "output_type": "stream",
          "text": [
            "/usr/local/lib/python3.6/dist-packages/statsmodels/tools/_testing.py:19: FutureWarning: pandas.util.testing is deprecated. Use the functions in the public API at pandas.testing instead.\n",
            "  import pandas.util.testing as tm\n"
          ],
          "name": "stderr"
        }
      ]
    },
    {
      "cell_type": "markdown",
      "metadata": {
        "id": "6-OKe2iNF3Rb",
        "colab_type": "text"
      },
      "source": [
        "## data preprocessing"
      ]
    },
    {
      "cell_type": "code",
      "metadata": {
        "id": "gj7uvqZpDP5L",
        "colab_type": "code",
        "colab": {
          "base_uri": "https://localhost:8080/",
          "height": 71
        },
        "outputId": "7d69341f-e496-4882-a2c8-6ffafabaa255"
      },
      "source": [
        "def read_and_process_image(data_dir,width=32, height=32, channels=3, preprocess=False):\n",
        "    train_classes= [data_dir + \"/\" +  i for i in os.listdir(data_dir) ]\n",
        "    train_images = []\n",
        "    for train_class in train_classes:\n",
        "        train_images= train_images + [train_class + \"/\" + i for i in os.listdir(train_class)]\n",
        "    random.shuffle(train_images)\n",
        "    print(train_images[0:10])\n",
        "\n",
        "    def read_image(file_path, preprocess):\n",
        "        img = image.load_img(file_path, target_size=(height, width))\n",
        "        x = image.img_to_array(img)\n",
        "        x = np.expand_dims(x, axis=0)\n",
        "        # if preprocess:\n",
        "            # x = preprocess_input(x)\n",
        "        return x\n",
        "    \n",
        "    def prep_data(images, preprocess):\n",
        "        count = len(images)\n",
        "        data = np.ndarray((count, height, width, channels), dtype = np.float32)\n",
        "        print(data.shape)\n",
        "        for i, image_file in enumerate(images):\n",
        "            image = read_image(image_file, preprocess)\n",
        "            data[i] = image\n",
        "        return data\n",
        "\n",
        "    def read_labels(file_path):\n",
        "        labels = []\n",
        "        for i in file_path:\n",
        "            if 'apple' in i:\n",
        "                label = 0\n",
        "            elif 'cabbage' in i:\n",
        "                label = 1\n",
        "            elif 'carrot' in i:\n",
        "                label = 2\n",
        "            elif 'chicken' in i:\n",
        "                label = 3\n",
        "            elif 'cucumber' in i:\n",
        "                label = 4\n",
        "            elif 'egg' in i:\n",
        "                label = 5\n",
        "            elif 'mushroom' in i:\n",
        "                label = 6\n",
        "            elif 'potato' in i:\n",
        "                label = 7\n",
        "            elif 'radish' in i:\n",
        "                label = 8\n",
        "            elif 'tomato' in i:\n",
        "                label = 9\n",
        "            labels.append(label)\n",
        "        \n",
        "        return labels\n",
        "    \n",
        "    X = prep_data(train_images, preprocess)\n",
        "    labels = read_labels(train_images)\n",
        "    \n",
        "    assert X.shape[0] == len(labels)\n",
        "    \n",
        "    #print(\"Train shape: {}\".format(X.shape))\n",
        "    #print(\"Train shape: {}\".format(len(labels)))\n",
        "    return X, labels\n",
        "\n",
        "x,y = read_and_process_image('/tmp/food_img') "
      ],
      "execution_count": 4,
      "outputs": [
        {
          "output_type": "stream",
          "text": [
            "['/tmp/food_img/egg/egg_1079.jpg', '/tmp/food_img/egg/egg_824.jpg', '/tmp/food_img/cucumber/cucumber_697.jpg', '/tmp/food_img/apple/apple_82.jpg', '/tmp/food_img/egg/egg_994.jpg', '/tmp/food_img/cucumber/cucumber_309.jpg', '/tmp/food_img/apple/apple_538.jpg', '/tmp/food_img/egg/egg_269.jpg', '/tmp/food_img/apple/apple_840.jpg', '/tmp/food_img/cabbage/cabbage_44.jpg']\n",
            "(6972, 32, 32, 3)\n"
          ],
          "name": "stdout"
        }
      ]
    },
    {
      "cell_type": "code",
      "metadata": {
        "id": "5f4HQdqdFp7o",
        "colab_type": "code",
        "colab": {}
      },
      "source": [
        "# create train/test dataset\n",
        "x_train , x_test, y_train, y_test = train_test_split(x,y,test_size=0.2,random_state=100)\n",
        "\n",
        "# 圖片特徵值標準化\n",
        "x_train = x_train / 255\n",
        "x_test = x_test / 255\n",
        "\n",
        "#label以onehot encoding轉換\n",
        "y_train = np_utils.to_categorical(y_train)\n",
        "y_test_categories = y_test\n",
        "y_test = np_utils.to_categorical(y_test)"
      ],
      "execution_count": 5,
      "outputs": []
    },
    {
      "cell_type": "code",
      "metadata": {
        "id": "VDjIHEgKGQ9K",
        "colab_type": "code",
        "colab": {
          "base_uri": "https://localhost:8080/",
          "height": 187
        },
        "outputId": "f70250d4-1d93-406f-a10d-f25c7479999b"
      },
      "source": [
        "# write dataset to pkl\n",
        "output = open(\"food_dataset.pkl\", \"wb\")\n",
        "pickle.dump({\"x_train\":x_train, \"y_train\":y_train, \"x_test\":x_test, \"y_test\":y_test}, output)\n",
        "output.close()\n",
        "\n",
        "# read dataset\n",
        "with open(\"food_dataset.pkl\", 'rb') as fo:\n",
        "    data = pickle.load(fo, encoding='bytes')\n",
        "    \n",
        "# print(data[\"x_train\"].shape)\n",
        "print(data[\"y_train\"])\n",
        "print()\n",
        "print('x_train.shape={}, y_train.shape={}'.format(x_train.shape, y_train.shape))\n",
        "print('x_test.shape={}, y_test.shape={}'.format(x_test.shape, y_test.shape))"
      ],
      "execution_count": 6,
      "outputs": [
        {
          "output_type": "stream",
          "text": [
            "[[0. 0. 0. ... 0. 1. 0.]\n",
            " [0. 0. 0. ... 0. 0. 0.]\n",
            " [0. 0. 0. ... 0. 0. 0.]\n",
            " ...\n",
            " [0. 0. 1. ... 0. 0. 0.]\n",
            " [0. 0. 0. ... 1. 0. 0.]\n",
            " [0. 0. 0. ... 1. 0. 0.]]\n",
            "\n",
            "x_train.shape=(5577, 32, 32, 3), y_train.shape=(5577, 10)\n",
            "x_test.shape=(1395, 32, 32, 3), y_test.shape=(1395, 10)\n"
          ],
          "name": "stdout"
        }
      ]
    },
    {
      "cell_type": "markdown",
      "metadata": {
        "id": "_D65tVagGlaZ",
        "colab_type": "text"
      },
      "source": [
        "## Build model"
      ]
    },
    {
      "cell_type": "code",
      "metadata": {
        "id": "9Fhl0r5oGZ7n",
        "colab_type": "code",
        "colab": {}
      },
      "source": [
        "# 建立一個線性堆疊模型，後續只需要將各神經網路層加入模型即可\n",
        "model = Sequential()\n",
        "\n",
        "# 建立卷積層1與池化層1\n",
        "model.add(Conv2D(filters=32, kernel_size=(3, 3),\n",
        "                input_shape=(32, 32, 3),\n",
        "                activation='relu',\n",
        "                padding='same'))\n",
        "model.add(Dropout(rate=0.25)) \n",
        "model.add(MaxPooling2D(pool_size=(2, 2)))\n",
        "\n",
        "# 建立卷積層2與池化層2\n",
        "model.add(Conv2D(filters=64, kernel_size=(3, 3),\n",
        "                 activation='relu', padding='same'))\n",
        "model.add(Dropout(rate=0.25)) \n",
        "model.add(MaxPooling2D(pool_size=(2, 2)))\n",
        "\n",
        "# 建立卷積層3與池化層3\n",
        "model.add(Conv2D(filters=128, kernel_size=(3, 3),\n",
        "                 activation='relu', padding='same'))\n",
        "model.add(Dropout(rate=0.25)) \n",
        "model.add(MaxPooling2D(pool_size=(2, 2)))\n",
        "\n",
        "\n",
        "# 建立神經網路的平坦層\n",
        "model.add(Flatten())\n",
        "model.add(Dropout(rate=0.25)) \n",
        "\n",
        "# 建立神經網路的隱藏層\n",
        "model.add(Dense(1024, activation='relu'))\n",
        "model.add(Dropout(rate=0.25)) \n",
        "\n",
        "# 建立神經網路的輸出層\n",
        "model.add(Dense(10, activation='softmax'))"
      ],
      "execution_count": 8,
      "outputs": []
    },
    {
      "cell_type": "code",
      "metadata": {
        "id": "yAhmIvrqGqnK",
        "colab_type": "code",
        "colab": {
          "base_uri": "https://localhost:8080/",
          "height": 646
        },
        "outputId": "675dbebe-2cb2-4678-b993-013990961268"
      },
      "source": [
        "# 查看模型摘要\n",
        "print(model.summary())"
      ],
      "execution_count": 9,
      "outputs": [
        {
          "output_type": "stream",
          "text": [
            "Model: \"sequential_1\"\n",
            "_________________________________________________________________\n",
            "Layer (type)                 Output Shape              Param #   \n",
            "=================================================================\n",
            "conv2d_3 (Conv2D)            (None, 32, 32, 32)        896       \n",
            "_________________________________________________________________\n",
            "dropout (Dropout)            (None, 32, 32, 32)        0         \n",
            "_________________________________________________________________\n",
            "max_pooling2d_3 (MaxPooling2 (None, 16, 16, 32)        0         \n",
            "_________________________________________________________________\n",
            "conv2d_4 (Conv2D)            (None, 16, 16, 64)        18496     \n",
            "_________________________________________________________________\n",
            "dropout_1 (Dropout)          (None, 16, 16, 64)        0         \n",
            "_________________________________________________________________\n",
            "max_pooling2d_4 (MaxPooling2 (None, 8, 8, 64)          0         \n",
            "_________________________________________________________________\n",
            "conv2d_5 (Conv2D)            (None, 8, 8, 128)         73856     \n",
            "_________________________________________________________________\n",
            "dropout_2 (Dropout)          (None, 8, 8, 128)         0         \n",
            "_________________________________________________________________\n",
            "max_pooling2d_5 (MaxPooling2 (None, 4, 4, 128)         0         \n",
            "_________________________________________________________________\n",
            "flatten_1 (Flatten)          (None, 2048)              0         \n",
            "_________________________________________________________________\n",
            "dropout_3 (Dropout)          (None, 2048)              0         \n",
            "_________________________________________________________________\n",
            "dense_2 (Dense)              (None, 1024)              2098176   \n",
            "_________________________________________________________________\n",
            "dropout_4 (Dropout)          (None, 1024)              0         \n",
            "_________________________________________________________________\n",
            "dense_3 (Dense)              (None, 10)                10250     \n",
            "=================================================================\n",
            "Total params: 2,201,674\n",
            "Trainable params: 2,201,674\n",
            "Non-trainable params: 0\n",
            "_________________________________________________________________\n",
            "None\n"
          ],
          "name": "stdout"
        }
      ]
    },
    {
      "cell_type": "markdown",
      "metadata": {
        "id": "bNuFLsQtGxpZ",
        "colab_type": "text"
      },
      "source": [
        "## Train model"
      ]
    },
    {
      "cell_type": "code",
      "metadata": {
        "id": "SqCenL1kGt9s",
        "colab_type": "code",
        "colab": {}
      },
      "source": [
        "# 使用compile方法，對訓練模型進行設定\n",
        "model.compile(optimizer=RMSprop(lr=0.0001),\n",
        "              loss='categorical_crossentropy',\n",
        "              metrics=['accuracy'])"
      ],
      "execution_count": 10,
      "outputs": []
    },
    {
      "cell_type": "code",
      "metadata": {
        "id": "831T9zyUG2EQ",
        "colab_type": "code",
        "colab": {
          "base_uri": "https://localhost:8080/",
          "height": 1000
        },
        "outputId": "0903dc9c-aab2-4f28-d6e8-8fccd328c6f0"
      },
      "source": [
        "# 開始訓練\n",
        "# 輸入訓練資料參數 x = x_img_train_normalize, y = y_label_train_OneHot\n",
        "# 設定訓練與驗證資料比例 80/20\n",
        "# 設定epoch(訓練週期)次數與每一批次筆數\n",
        "# 設定顯示訓練過程 verbose=1\n",
        "train_history = model.fit(x=x_train, y=y_train,\n",
        "                          validation_data=(x_test, y_test),\n",
        "                          validation_split=0.2,\n",
        "                          epochs=50,\n",
        "                          batch_size=32,\n",
        "                          verbose=1)"
      ],
      "execution_count": 11,
      "outputs": [
        {
          "output_type": "stream",
          "text": [
            "Epoch 1/50\n",
            "140/140 [==============================] - 2s 13ms/step - loss: 1.8193 - accuracy: 0.3475 - val_loss: 1.7542 - val_accuracy: 0.4444\n",
            "Epoch 2/50\n",
            "140/140 [==============================] - 1s 10ms/step - loss: 1.4032 - accuracy: 0.4817 - val_loss: 1.5016 - val_accuracy: 0.5475\n",
            "Epoch 3/50\n",
            "140/140 [==============================] - 1s 10ms/step - loss: 1.1989 - accuracy: 0.5584 - val_loss: 1.3383 - val_accuracy: 0.6093\n",
            "Epoch 4/50\n",
            "140/140 [==============================] - 1s 10ms/step - loss: 1.0948 - accuracy: 0.5902 - val_loss: 1.2504 - val_accuracy: 0.6111\n",
            "Epoch 5/50\n",
            "140/140 [==============================] - 1s 10ms/step - loss: 1.0072 - accuracy: 0.6304 - val_loss: 1.2070 - val_accuracy: 0.6353\n",
            "Epoch 6/50\n",
            "140/140 [==============================] - 1s 10ms/step - loss: 0.9521 - accuracy: 0.6438 - val_loss: 1.1285 - val_accuracy: 0.6389\n",
            "Epoch 7/50\n",
            "140/140 [==============================] - 1s 10ms/step - loss: 0.9207 - accuracy: 0.6626 - val_loss: 1.1141 - val_accuracy: 0.5914\n",
            "Epoch 8/50\n",
            "140/140 [==============================] - 1s 10ms/step - loss: 0.8880 - accuracy: 0.6774 - val_loss: 1.1306 - val_accuracy: 0.6210\n",
            "Epoch 9/50\n",
            "140/140 [==============================] - 1s 10ms/step - loss: 0.8624 - accuracy: 0.6889 - val_loss: 1.1091 - val_accuracy: 0.6371\n",
            "Epoch 10/50\n",
            "140/140 [==============================] - 1s 10ms/step - loss: 0.8372 - accuracy: 0.6963 - val_loss: 1.0370 - val_accuracy: 0.6729\n",
            "Epoch 11/50\n",
            "140/140 [==============================] - 1s 10ms/step - loss: 0.8021 - accuracy: 0.7079 - val_loss: 1.0504 - val_accuracy: 0.6425\n",
            "Epoch 12/50\n",
            "140/140 [==============================] - 1s 10ms/step - loss: 0.7806 - accuracy: 0.7164 - val_loss: 0.9678 - val_accuracy: 0.6810\n",
            "Epoch 13/50\n",
            "140/140 [==============================] - 1s 10ms/step - loss: 0.7630 - accuracy: 0.7265 - val_loss: 0.9464 - val_accuracy: 0.7195\n",
            "Epoch 14/50\n",
            "140/140 [==============================] - 1s 10ms/step - loss: 0.7436 - accuracy: 0.7330 - val_loss: 0.9739 - val_accuracy: 0.6927\n",
            "Epoch 15/50\n",
            "140/140 [==============================] - 2s 11ms/step - loss: 0.7316 - accuracy: 0.7380 - val_loss: 1.0111 - val_accuracy: 0.6703\n",
            "Epoch 16/50\n",
            "140/140 [==============================] - 2s 11ms/step - loss: 0.7095 - accuracy: 0.7478 - val_loss: 0.9110 - val_accuracy: 0.7285\n",
            "Epoch 17/50\n",
            "140/140 [==============================] - 2s 11ms/step - loss: 0.6914 - accuracy: 0.7525 - val_loss: 0.9827 - val_accuracy: 0.6747\n",
            "Epoch 18/50\n",
            "140/140 [==============================] - 2s 11ms/step - loss: 0.6774 - accuracy: 0.7597 - val_loss: 0.9049 - val_accuracy: 0.7151\n",
            "Epoch 19/50\n",
            "140/140 [==============================] - 2s 11ms/step - loss: 0.6614 - accuracy: 0.7606 - val_loss: 0.8974 - val_accuracy: 0.7231\n",
            "Epoch 20/50\n",
            "140/140 [==============================] - 2s 11ms/step - loss: 0.6602 - accuracy: 0.7637 - val_loss: 0.8705 - val_accuracy: 0.7446\n",
            "Epoch 21/50\n",
            "140/140 [==============================] - 2s 11ms/step - loss: 0.6325 - accuracy: 0.7714 - val_loss: 0.8814 - val_accuracy: 0.7464\n",
            "Epoch 22/50\n",
            "140/140 [==============================] - 1s 10ms/step - loss: 0.6234 - accuracy: 0.7731 - val_loss: 0.8593 - val_accuracy: 0.7491\n",
            "Epoch 23/50\n",
            "140/140 [==============================] - 1s 10ms/step - loss: 0.6088 - accuracy: 0.7776 - val_loss: 0.8854 - val_accuracy: 0.7142\n",
            "Epoch 24/50\n",
            "140/140 [==============================] - 1s 11ms/step - loss: 0.6039 - accuracy: 0.7808 - val_loss: 0.8406 - val_accuracy: 0.7455\n",
            "Epoch 25/50\n",
            "140/140 [==============================] - 1s 10ms/step - loss: 0.5769 - accuracy: 0.7911 - val_loss: 0.8281 - val_accuracy: 0.7679\n",
            "Epoch 26/50\n",
            "140/140 [==============================] - 1s 10ms/step - loss: 0.5782 - accuracy: 0.7875 - val_loss: 0.8065 - val_accuracy: 0.7509\n",
            "Epoch 27/50\n",
            "140/140 [==============================] - 1s 10ms/step - loss: 0.5662 - accuracy: 0.7978 - val_loss: 0.7954 - val_accuracy: 0.7625\n",
            "Epoch 28/50\n",
            "140/140 [==============================] - 1s 10ms/step - loss: 0.5497 - accuracy: 0.7989 - val_loss: 0.8652 - val_accuracy: 0.6935\n",
            "Epoch 29/50\n",
            "140/140 [==============================] - 1s 10ms/step - loss: 0.5393 - accuracy: 0.8048 - val_loss: 0.7937 - val_accuracy: 0.7482\n",
            "Epoch 30/50\n",
            "140/140 [==============================] - 1s 10ms/step - loss: 0.5320 - accuracy: 0.8130 - val_loss: 0.8292 - val_accuracy: 0.7079\n",
            "Epoch 31/50\n",
            "140/140 [==============================] - 1s 10ms/step - loss: 0.5125 - accuracy: 0.8119 - val_loss: 0.7642 - val_accuracy: 0.7715\n",
            "Epoch 32/50\n",
            "140/140 [==============================] - 1s 10ms/step - loss: 0.5060 - accuracy: 0.8157 - val_loss: 0.7858 - val_accuracy: 0.7401\n",
            "Epoch 33/50\n",
            "140/140 [==============================] - 1s 10ms/step - loss: 0.4915 - accuracy: 0.8243 - val_loss: 0.7999 - val_accuracy: 0.7742\n",
            "Epoch 34/50\n",
            "140/140 [==============================] - 1s 10ms/step - loss: 0.4817 - accuracy: 0.8272 - val_loss: 0.7567 - val_accuracy: 0.7554\n",
            "Epoch 35/50\n",
            "140/140 [==============================] - 1s 10ms/step - loss: 0.4688 - accuracy: 0.8290 - val_loss: 0.8086 - val_accuracy: 0.7294\n",
            "Epoch 36/50\n",
            "140/140 [==============================] - 1s 10ms/step - loss: 0.4665 - accuracy: 0.8337 - val_loss: 0.7409 - val_accuracy: 0.7616\n",
            "Epoch 37/50\n",
            "140/140 [==============================] - 1s 11ms/step - loss: 0.4567 - accuracy: 0.8337 - val_loss: 0.7471 - val_accuracy: 0.7760\n",
            "Epoch 38/50\n",
            "140/140 [==============================] - 1s 10ms/step - loss: 0.4434 - accuracy: 0.8402 - val_loss: 0.7456 - val_accuracy: 0.7608\n",
            "Epoch 39/50\n",
            "140/140 [==============================] - 1s 10ms/step - loss: 0.4340 - accuracy: 0.8442 - val_loss: 0.7976 - val_accuracy: 0.7186\n",
            "Epoch 40/50\n",
            "140/140 [==============================] - 1s 10ms/step - loss: 0.4350 - accuracy: 0.8348 - val_loss: 0.7347 - val_accuracy: 0.7518\n",
            "Epoch 41/50\n",
            "140/140 [==============================] - 1s 10ms/step - loss: 0.4175 - accuracy: 0.8543 - val_loss: 0.7363 - val_accuracy: 0.7608\n",
            "Epoch 42/50\n",
            "140/140 [==============================] - 1s 10ms/step - loss: 0.4120 - accuracy: 0.8509 - val_loss: 0.7140 - val_accuracy: 0.7697\n",
            "Epoch 43/50\n",
            "140/140 [==============================] - 1s 10ms/step - loss: 0.4110 - accuracy: 0.8516 - val_loss: 0.7282 - val_accuracy: 0.7509\n",
            "Epoch 44/50\n",
            "140/140 [==============================] - 1s 10ms/step - loss: 0.3871 - accuracy: 0.8568 - val_loss: 0.7164 - val_accuracy: 0.7706\n",
            "Epoch 45/50\n",
            "140/140 [==============================] - 1s 10ms/step - loss: 0.3896 - accuracy: 0.8568 - val_loss: 0.6839 - val_accuracy: 0.7652\n",
            "Epoch 46/50\n",
            "140/140 [==============================] - 1s 10ms/step - loss: 0.3817 - accuracy: 0.8635 - val_loss: 0.7188 - val_accuracy: 0.7760\n",
            "Epoch 47/50\n",
            "140/140 [==============================] - 1s 10ms/step - loss: 0.3652 - accuracy: 0.8644 - val_loss: 0.7267 - val_accuracy: 0.7616\n",
            "Epoch 48/50\n",
            "140/140 [==============================] - 1s 10ms/step - loss: 0.3737 - accuracy: 0.8617 - val_loss: 0.7013 - val_accuracy: 0.7724\n",
            "Epoch 49/50\n",
            "140/140 [==============================] - 1s 10ms/step - loss: 0.3509 - accuracy: 0.8704 - val_loss: 0.6853 - val_accuracy: 0.7796\n",
            "Epoch 50/50\n",
            "140/140 [==============================] - 1s 10ms/step - loss: 0.3514 - accuracy: 0.8720 - val_loss: 0.7087 - val_accuracy: 0.7527\n"
          ],
          "name": "stdout"
        }
      ]
    },
    {
      "cell_type": "markdown",
      "metadata": {
        "id": "WwjNMmwRG703",
        "colab_type": "text"
      },
      "source": [
        "## Evaluate the training model"
      ]
    },
    {
      "cell_type": "code",
      "metadata": {
        "id": "4jbUSmegG_JD",
        "colab_type": "code",
        "colab": {}
      },
      "source": [
        "# 定義一個show_train_history function\n",
        "def show_train_history(train_history, train, validation):\n",
        "    plt.plot(train_history.history[train])\n",
        "    plt.plot(train_history.history[validation])\n",
        "    plt.title('Train History')\n",
        "    plt.ylabel('train')\n",
        "    plt.xlabel('Epoch')\n",
        "    plt.legend(['train', 'validation'], loc='center right')\n",
        "    plt.show()"
      ],
      "execution_count": 12,
      "outputs": []
    },
    {
      "cell_type": "code",
      "metadata": {
        "id": "CGwyTtI1HBZ5",
        "colab_type": "code",
        "colab": {
          "base_uri": "https://localhost:8080/",
          "height": 295
        },
        "outputId": "90066c7c-1ec8-4a9e-9cc3-1e9c40bcf30d"
      },
      "source": [
        "# 畫出train與test dataset 訓練過程的準確率\n",
        "show_train_history(train_history, 'accuracy', 'val_accuracy')"
      ],
      "execution_count": 13,
      "outputs": [
        {
          "output_type": "display_data",
          "data": {
            "image/png": "[encoded data removed]",
            "text/plain": [
              "<Figure size 432x288 with 1 Axes>"
            ]
          },
          "metadata": {
            "tags": [],
            "needs_background": "light"
          }
        }
      ]
    },
    {
      "cell_type": "markdown",
      "metadata": {
        "id": "l0aA-aefSkSc",
        "colab_type": "text"
      },
      "source": [
        "有比前一個模型更接近，但仍有差距"
      ]
    },
    {
      "cell_type": "code",
      "metadata": {
        "id": "oGVztdiZHEpu",
        "colab_type": "code",
        "colab": {
          "base_uri": "https://localhost:8080/",
          "height": 295
        },
        "outputId": "8ca877d1-e729-4dbc-8957-bfaa29a8d5aa"
      },
      "source": [
        "# 畫出train與test dataset訓練過程的誤差率\n",
        "show_train_history(train_history, 'loss', 'val_loss')"
      ],
      "execution_count": 14,
      "outputs": [
        {
          "output_type": "display_data",
          "data": {
            "image/png": "[encoded data removed]",
            "text/plain": [
              "<Figure size 432x288 with 1 Axes>"
            ]
          },
          "metadata": {
            "tags": [],
            "needs_background": "light"
          }
        }
      ]
    },
    {
      "cell_type": "code",
      "metadata": {
        "id": "_U29LlQtHHPU",
        "colab_type": "code",
        "colab": {
          "base_uri": "https://localhost:8080/",
          "height": 71
        },
        "outputId": "d04e8b85-43ea-4973-faaf-6195c14d2fac"
      },
      "source": [
        "scores = model.evaluate(x_test, y_test)\n",
        "scores[1]"
      ],
      "execution_count": 15,
      "outputs": [
        {
          "output_type": "stream",
          "text": [
            "44/44 [==============================] - 0s 5ms/step - loss: 0.6780 - accuracy: 0.7749\n"
          ],
          "name": "stdout"
        },
        {
          "output_type": "execute_result",
          "data": {
            "text/plain": [
              "0.7749103903770447"
            ]
          },
          "metadata": {
            "tags": []
          },
          "execution_count": 15
        }
      ]
    },
    {
      "cell_type": "code",
      "metadata": {
        "id": "72p7xXqmHZJy",
        "colab_type": "code",
        "colab": {}
      },
      "source": [
        ""
      ],
      "execution_count": null,
      "outputs": []
    }
  ]
}
