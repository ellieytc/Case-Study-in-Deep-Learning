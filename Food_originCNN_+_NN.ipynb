{
  "nbformat": 4,
  "nbformat_minor": 0,
  "metadata": {
    "colab": {
      "name": "Food_originCNN + NN.ipynb",
      "provenance": [],
      "collapsed_sections": [],
      "authorship_tag": "ABX9TyNXStKAFFe4rWuuJIDVPE1w",
      "include_colab_link": true
    },
    "kernelspec": {
      "name": "python3",
      "display_name": "Python 3"
    },
    "accelerator": "GPU"
  },
  "cells": [
    {
      "cell_type": "markdown",
      "metadata": {
        "id": "view-in-github",
        "colab_type": "text"
      },
      "source": [
        "<a href=\"https://colab.research.google.com/github/ellieytc/CaseStudy.DeepLearning/blob/master/Food_originCNN_%2B_NN.ipynb\" target=\"_parent\"><img src=\"https://colab.research.google.com/assets/colab-badge.svg\" alt=\"Open In Colab\"/></a>"
      ]
    },
    {
      "cell_type": "code",
      "metadata": {
        "id": "Kb20eIjAAdHO",
        "colab_type": "code",
        "colab": {
          "base_uri": "https://localhost:8080/",
          "height": 357
        },
        "outputId": "f14212a3-e97a-470b-89fc-f69bf08844ba"
      },
      "source": [
        "!nvidia-smi"
      ],
      "execution_count": 1,
      "outputs": [
        {
          "output_type": "stream",
          "text": [
            "Wed Aug 19 03:28:28 2020       \n",
            "+-----------------------------------------------------------------------------+\n",
            "| NVIDIA-SMI 450.57       Driver Version: 418.67       CUDA Version: 10.1     |\n",
            "|-------------------------------+----------------------+----------------------+\n",
            "| GPU  Name        Persistence-M| Bus-Id        Disp.A | Volatile Uncorr. ECC |\n",
            "| Fan  Temp  Perf  Pwr:Usage/Cap|         Memory-Usage | GPU-Util  Compute M. |\n",
            "|                               |                      |               MIG M. |\n",
            "|===============================+======================+======================|\n",
            "|   0  Tesla T4            Off  | 00000000:00:04.0 Off |                    0 |\n",
            "| N/A   63C    P8    11W /  70W |      0MiB / 15079MiB |      0%      Default |\n",
            "|                               |                      |                 ERR! |\n",
            "+-------------------------------+----------------------+----------------------+\n",
            "                                                                               \n",
            "+-----------------------------------------------------------------------------+\n",
            "| Processes:                                                                  |\n",
            "|  GPU   GI   CI        PID   Type   Process name                  GPU Memory |\n",
            "|        ID   ID                                                   Usage      |\n",
            "|=============================================================================|\n",
            "|  No running processes found                                                 |\n",
            "+-----------------------------------------------------------------------------+\n"
          ],
          "name": "stdout"
        }
      ]
    },
    {
      "cell_type": "markdown",
      "metadata": {
        "id": "eyKfASLZD4_E",
        "colab_type": "text"
      },
      "source": [
        "## download data"
      ]
    },
    {
      "cell_type": "code",
      "metadata": {
        "id": "Fu9aqxIsCQ41",
        "colab_type": "code",
        "colab": {
          "base_uri": "https://localhost:8080/",
          "height": 292
        },
        "outputId": "86a96a82-bb70-4d23-c844-d3c57d57c95d"
      },
      "source": [
        "import os\n",
        "import zipfile\n",
        "from google.colab import drive\n",
        "drive.mount('/content/drive')\n",
        "\n",
        "path = '/content/drive/My Drive/Tibame/dataset/food_img.zip'\n",
        "\n",
        "zip_ref = zipfile.ZipFile(path, 'r')\n",
        "zip_ref.extractall('/tmp')\n",
        "zip_ref.close()\n",
        "\n",
        "os.chdir('/tmp/food_img')\n",
        "os.listdir('/tmp/food_img')"
      ],
      "execution_count": 2,
      "outputs": [
        {
          "output_type": "stream",
          "text": [
            "Go to this URL in a browser: https://accounts.google.com/o/oauth2/auth?client_id=947318989803-6bn6qk8qdgf4n4g3pfee6491hc0brc4i.apps.googleusercontent.com&redirect_uri=urn%3aietf%3awg%3aoauth%3a2.0%3aoob&scope=email%20https%3a%2f%2fwww.googleapis.com%2fauth%2fdocs.test%20https%3a%2f%2fwww.googleapis.com%2fauth%2fdrive%20https%3a%2f%2fwww.googleapis.com%2fauth%2fdrive.photos.readonly%20https%3a%2f%2fwww.googleapis.com%2fauth%2fpeopleapi.readonly&response_type=code\n",
            "\n",
            "Enter your authorization code:\n",
            "··········\n",
            "Mounted at /content/drive\n"
          ],
          "name": "stdout"
        },
        {
          "output_type": "execute_result",
          "data": {
            "text/plain": [
              "['potato',\n",
              " 'egg',\n",
              " 'cucumber',\n",
              " 'mushroom',\n",
              " 'radish',\n",
              " 'tomato',\n",
              " 'apple',\n",
              " 'carrot',\n",
              " 'cabbage',\n",
              " 'chicken']"
            ]
          },
          "metadata": {
            "tags": []
          },
          "execution_count": 2
        }
      ]
    },
    {
      "cell_type": "markdown",
      "metadata": {
        "id": "axkx85SWFv6s",
        "colab_type": "text"
      },
      "source": [
        "## import library"
      ]
    },
    {
      "cell_type": "code",
      "metadata": {
        "id": "xmsTGyXyFurL",
        "colab_type": "code",
        "colab": {
          "base_uri": "https://localhost:8080/",
          "height": 71
        },
        "outputId": "3d4c6efa-39cc-44e6-9a44-95bf3326eec8"
      },
      "source": [
        "from keras.models import Sequential\n",
        "from keras.models import load_model\n",
        "from keras.layers.convolutional import Conv2D, MaxPooling2D\n",
        "from keras.layers.core import Activation, Flatten, Dense, Dropout\n",
        "from keras.utils import np_utils\n",
        "from keras.optimizers import RMSprop\n",
        "import numpy as np\n",
        "import matplotlib.pyplot as plt\n",
        "import tensorflow as tf\n",
        "import seaborn as sns\n",
        "from keras.preprocessing import image\n",
        "import keras\n",
        "from keras.preprocessing.image import ImageDataGenerator\n",
        "from sklearn.model_selection import train_test_split\n",
        "from PIL import ImageFile\n",
        "ImageFile.LOAD_TRUNCATED_IMAGES = True\n",
        "import random, os, pickle"
      ],
      "execution_count": 3,
      "outputs": [
        {
          "output_type": "stream",
          "text": [
            "/usr/local/lib/python3.6/dist-packages/statsmodels/tools/_testing.py:19: FutureWarning: pandas.util.testing is deprecated. Use the functions in the public API at pandas.testing instead.\n",
            "  import pandas.util.testing as tm\n"
          ],
          "name": "stderr"
        }
      ]
    },
    {
      "cell_type": "markdown",
      "metadata": {
        "id": "6-OKe2iNF3Rb",
        "colab_type": "text"
      },
      "source": [
        "## data preprocessing"
      ]
    },
    {
      "cell_type": "code",
      "metadata": {
        "id": "gj7uvqZpDP5L",
        "colab_type": "code",
        "colab": {
          "base_uri": "https://localhost:8080/",
          "height": 71
        },
        "outputId": "bb47b7d0-756a-47fe-a7c2-c45279e47ff3"
      },
      "source": [
        "def read_and_process_image(data_dir,width=32, height=32, channels=3, preprocess=False):\n",
        "    train_classes= [data_dir + \"/\" +  i for i in os.listdir(data_dir) ]\n",
        "    train_images = []\n",
        "    for train_class in train_classes:\n",
        "        train_images= train_images + [train_class + \"/\" + i for i in os.listdir(train_class)]\n",
        "    random.shuffle(train_images)\n",
        "    print(train_images[0:10])\n",
        "\n",
        "    def read_image(file_path, preprocess):\n",
        "        img = image.load_img(file_path, target_size=(height, width))\n",
        "        x = image.img_to_array(img)\n",
        "        x = np.expand_dims(x, axis=0)\n",
        "        # if preprocess:\n",
        "            # x = preprocess_input(x)\n",
        "        return x\n",
        "    \n",
        "    def prep_data(images, preprocess):\n",
        "        count = len(images)\n",
        "        data = np.ndarray((count, height, width, channels), dtype = np.float32)\n",
        "        print(data.shape)\n",
        "        for i, image_file in enumerate(images):\n",
        "            image = read_image(image_file, preprocess)\n",
        "            data[i] = image\n",
        "        return data\n",
        "\n",
        "    def read_labels(file_path):\n",
        "        labels = []\n",
        "        for i in file_path:\n",
        "            if 'apple' in i:\n",
        "                label = 0\n",
        "            elif 'cabbage' in i:\n",
        "                label = 1\n",
        "            elif 'carrot' in i:\n",
        "                label = 2\n",
        "            elif 'chicken' in i:\n",
        "                label = 3\n",
        "            elif 'cucumber' in i:\n",
        "                label = 4\n",
        "            elif 'egg' in i:\n",
        "                label = 5\n",
        "            elif 'mushroom' in i:\n",
        "                label = 6\n",
        "            elif 'potato' in i:\n",
        "                label = 7\n",
        "            elif 'radish' in i:\n",
        "                label = 8\n",
        "            elif 'tomato' in i:\n",
        "                label = 9\n",
        "            labels.append(label)\n",
        "        \n",
        "        return labels\n",
        "    \n",
        "    X = prep_data(train_images, preprocess)\n",
        "    labels = read_labels(train_images)\n",
        "    \n",
        "    assert X.shape[0] == len(labels)\n",
        "    \n",
        "    #print(\"Train shape: {}\".format(X.shape))\n",
        "    #print(\"Train shape: {}\".format(len(labels)))\n",
        "    return X, labels\n",
        "\n",
        "x,y = read_and_process_image('/tmp/food_img') "
      ],
      "execution_count": 4,
      "outputs": [
        {
          "output_type": "stream",
          "text": [
            "['/tmp/food_img/egg/egg_438.jpg', '/tmp/food_img/cucumber/cucumber_623.jpg', '/tmp/food_img/apple/apple_698.jpg', '/tmp/food_img/tomato/tomato_605.jpg', '/tmp/food_img/egg/egg_137.jpg', '/tmp/food_img/egg/egg_178.jpg', '/tmp/food_img/cucumber/cucumber_765.jpg', '/tmp/food_img/cucumber/cucumber_757.jpg', '/tmp/food_img/egg/egg_1120.jpg', '/tmp/food_img/carrot/carrot_440.jpg']\n",
            "(6972, 32, 32, 3)\n"
          ],
          "name": "stdout"
        }
      ]
    },
    {
      "cell_type": "code",
      "metadata": {
        "id": "5f4HQdqdFp7o",
        "colab_type": "code",
        "colab": {}
      },
      "source": [
        "# create train/test dataset\n",
        "x_train , x_test, y_train, y_test = train_test_split(x,y,test_size=0.2,random_state=100)\n",
        "\n",
        "# 圖片特徵值標準化\n",
        "x_train = x_train / 255\n",
        "x_test = x_test / 255\n",
        "\n",
        "#label以onehot encoding轉換\n",
        "y_train = np_utils.to_categorical(y_train)\n",
        "y_test_categories = y_test\n",
        "y_test = np_utils.to_categorical(y_test)"
      ],
      "execution_count": 5,
      "outputs": []
    },
    {
      "cell_type": "code",
      "metadata": {
        "id": "VDjIHEgKGQ9K",
        "colab_type": "code",
        "colab": {
          "base_uri": "https://localhost:8080/",
          "height": 187
        },
        "outputId": "48b40a7b-b63f-40b8-92c9-7b125e761e06"
      },
      "source": [
        "# write dataset to pkl\n",
        "output = open(\"food_dataset.pkl\", \"wb\")\n",
        "pickle.dump({\"x_train\":x_train, \"y_train\":y_train, \"x_test\":x_test, \"y_test\":y_test}, output)\n",
        "output.close()\n",
        "\n",
        "# read dataset\n",
        "with open(\"food_dataset.pkl\", 'rb') as fo:\n",
        "    data = pickle.load(fo, encoding='bytes')\n",
        "    \n",
        "# print(data[\"x_train\"].shape)\n",
        "print(data[\"y_train\"])\n",
        "print()\n",
        "print('x_train.shape={}, y_train.shape={}'.format(x_train.shape, y_train.shape))\n",
        "print('x_test.shape={}, y_test.shape={}'.format(x_test.shape, y_test.shape))"
      ],
      "execution_count": 6,
      "outputs": [
        {
          "output_type": "stream",
          "text": [
            "[[0. 0. 0. ... 0. 0. 0.]\n",
            " [1. 0. 0. ... 0. 0. 0.]\n",
            " [0. 0. 0. ... 0. 0. 0.]\n",
            " ...\n",
            " [0. 1. 0. ... 0. 0. 0.]\n",
            " [0. 0. 0. ... 0. 0. 0.]\n",
            " [1. 0. 0. ... 0. 0. 0.]]\n",
            "\n",
            "x_train.shape=(5577, 32, 32, 3), y_train.shape=(5577, 10)\n",
            "x_test.shape=(1395, 32, 32, 3), y_test.shape=(1395, 10)\n"
          ],
          "name": "stdout"
        }
      ]
    },
    {
      "cell_type": "markdown",
      "metadata": {
        "id": "_D65tVagGlaZ",
        "colab_type": "text"
      },
      "source": [
        "## Build model"
      ]
    },
    {
      "cell_type": "code",
      "metadata": {
        "id": "9Fhl0r5oGZ7n",
        "colab_type": "code",
        "colab": {}
      },
      "source": [
        "# 建立一個線性堆疊模型，後續只需要將各神經網路層加入模型即可\n",
        "model = Sequential()\n",
        "\n",
        "# 建立卷積層1與池化層1\n",
        "model.add(Conv2D(filters=32, kernel_size=(3, 3),\n",
        "                input_shape=(32, 32, 3),\n",
        "                activation='relu',\n",
        "                padding='same'))\n",
        "\n",
        "model.add(MaxPooling2D(pool_size=(2, 2)))\n",
        "\n",
        "# 建立卷積層2與池化層2\n",
        "model.add(Conv2D(filters=64, kernel_size=(3, 3),\n",
        "                 activation='relu', padding='same'))\n",
        "model.add(MaxPooling2D(pool_size=(2, 2)))\n",
        "\n",
        "# 建立卷積層3與池化層3\n",
        "model.add(Conv2D(filters=128, kernel_size=(3, 3),\n",
        "                 activation='relu', padding='same'))\n",
        "model.add(MaxPooling2D(pool_size=(2, 2)))\n",
        "\n",
        "\n",
        "# 建立神經網路的平坦層\n",
        "model.add(Flatten())\n",
        "\n",
        "# 建立神經網路的隱藏層\n",
        "model.add(Dense(1024, activation='relu'))\n",
        "\n",
        "# 建立神經網路的輸出層\n",
        "model.add(Dense(10, activation='softmax'))"
      ],
      "execution_count": 7,
      "outputs": []
    },
    {
      "cell_type": "code",
      "metadata": {
        "id": "yAhmIvrqGqnK",
        "colab_type": "code",
        "colab": {
          "base_uri": "https://localhost:8080/",
          "height": 476
        },
        "outputId": "f95c2dc6-3220-4ef4-e953-db00ea9f9900"
      },
      "source": [
        "# 查看模型摘要\n",
        "print(model.summary())"
      ],
      "execution_count": 8,
      "outputs": [
        {
          "output_type": "stream",
          "text": [
            "Model: \"sequential\"\n",
            "_________________________________________________________________\n",
            "Layer (type)                 Output Shape              Param #   \n",
            "=================================================================\n",
            "conv2d (Conv2D)              (None, 32, 32, 32)        896       \n",
            "_________________________________________________________________\n",
            "max_pooling2d (MaxPooling2D) (None, 16, 16, 32)        0         \n",
            "_________________________________________________________________\n",
            "conv2d_1 (Conv2D)            (None, 16, 16, 64)        18496     \n",
            "_________________________________________________________________\n",
            "max_pooling2d_1 (MaxPooling2 (None, 8, 8, 64)          0         \n",
            "_________________________________________________________________\n",
            "conv2d_2 (Conv2D)            (None, 8, 8, 128)         73856     \n",
            "_________________________________________________________________\n",
            "max_pooling2d_2 (MaxPooling2 (None, 4, 4, 128)         0         \n",
            "_________________________________________________________________\n",
            "flatten (Flatten)            (None, 2048)              0         \n",
            "_________________________________________________________________\n",
            "dense (Dense)                (None, 1024)              2098176   \n",
            "_________________________________________________________________\n",
            "dense_1 (Dense)              (None, 10)                10250     \n",
            "=================================================================\n",
            "Total params: 2,201,674\n",
            "Trainable params: 2,201,674\n",
            "Non-trainable params: 0\n",
            "_________________________________________________________________\n",
            "None\n"
          ],
          "name": "stdout"
        }
      ]
    },
    {
      "cell_type": "markdown",
      "metadata": {
        "id": "bNuFLsQtGxpZ",
        "colab_type": "text"
      },
      "source": [
        "## Train model"
      ]
    },
    {
      "cell_type": "code",
      "metadata": {
        "id": "SqCenL1kGt9s",
        "colab_type": "code",
        "colab": {}
      },
      "source": [
        "# 使用compile方法，對訓練模型進行設定\n",
        "model.compile(optimizer=RMSprop(lr=0.0001),\n",
        "              loss='categorical_crossentropy',\n",
        "              metrics=['accuracy'])"
      ],
      "execution_count": 9,
      "outputs": []
    },
    {
      "cell_type": "code",
      "metadata": {
        "id": "831T9zyUG2EQ",
        "colab_type": "code",
        "colab": {
          "base_uri": "https://localhost:8080/",
          "height": 1000
        },
        "outputId": "11fa698a-c849-40b7-c157-4140bd65afb7"
      },
      "source": [
        "# 開始訓練\n",
        "# 輸入訓練資料參數 x = x_img_train_normalize, y = y_label_train_OneHot\n",
        "# 設定訓練與驗證資料比例 80/20\n",
        "# 設定epoch(訓練週期)次數與每一批次筆數\n",
        "# 設定顯示訓練過程 verbose=1\n",
        "train_history = model.fit(x=x_train, y=y_train,\n",
        "                          validation_data=(x_test, y_test),\n",
        "                          validation_split=0.2,\n",
        "                          epochs=50,\n",
        "                          batch_size=32,\n",
        "                          verbose=1)"
      ],
      "execution_count": 10,
      "outputs": [
        {
          "output_type": "stream",
          "text": [
            "Epoch 1/50\n",
            "140/140 [==============================] - 1s 7ms/step - loss: 1.7897 - accuracy: 0.3492 - val_loss: 1.5521 - val_accuracy: 0.4328\n",
            "Epoch 2/50\n",
            "140/140 [==============================] - 1s 5ms/step - loss: 1.4264 - accuracy: 0.4694 - val_loss: 1.3228 - val_accuracy: 0.4642\n",
            "Epoch 3/50\n",
            "140/140 [==============================] - 1s 5ms/step - loss: 1.2441 - accuracy: 0.5405 - val_loss: 1.1708 - val_accuracy: 0.5466\n",
            "Epoch 4/50\n",
            "140/140 [==============================] - 1s 5ms/step - loss: 1.1176 - accuracy: 0.6043 - val_loss: 1.2560 - val_accuracy: 0.5206\n",
            "Epoch 5/50\n",
            "140/140 [==============================] - 1s 5ms/step - loss: 1.0324 - accuracy: 0.6167 - val_loss: 0.9987 - val_accuracy: 0.6398\n",
            "Epoch 6/50\n",
            "140/140 [==============================] - 1s 5ms/step - loss: 0.9611 - accuracy: 0.6496 - val_loss: 0.9546 - val_accuracy: 0.6550\n",
            "Epoch 7/50\n",
            "140/140 [==============================] - 1s 5ms/step - loss: 0.9084 - accuracy: 0.6736 - val_loss: 1.0860 - val_accuracy: 0.5833\n",
            "Epoch 8/50\n",
            "140/140 [==============================] - 1s 5ms/step - loss: 0.8727 - accuracy: 0.6826 - val_loss: 0.9342 - val_accuracy: 0.6425\n",
            "Epoch 9/50\n",
            "140/140 [==============================] - 1s 5ms/step - loss: 0.8353 - accuracy: 0.6987 - val_loss: 0.8041 - val_accuracy: 0.6927\n",
            "Epoch 10/50\n",
            "140/140 [==============================] - 1s 5ms/step - loss: 0.8062 - accuracy: 0.7084 - val_loss: 0.8767 - val_accuracy: 0.6909\n",
            "Epoch 11/50\n",
            "140/140 [==============================] - 1s 5ms/step - loss: 0.7825 - accuracy: 0.7164 - val_loss: 1.2443 - val_accuracy: 0.5932\n",
            "Epoch 12/50\n",
            "140/140 [==============================] - 1s 5ms/step - loss: 0.7590 - accuracy: 0.7252 - val_loss: 0.7736 - val_accuracy: 0.7070\n",
            "Epoch 13/50\n",
            "140/140 [==============================] - 1s 5ms/step - loss: 0.7285 - accuracy: 0.7395 - val_loss: 0.7974 - val_accuracy: 0.7025\n",
            "Epoch 14/50\n",
            "140/140 [==============================] - 1s 5ms/step - loss: 0.7099 - accuracy: 0.7474 - val_loss: 0.8069 - val_accuracy: 0.6980\n",
            "Epoch 15/50\n",
            "140/140 [==============================] - 1s 5ms/step - loss: 0.6894 - accuracy: 0.7480 - val_loss: 0.7382 - val_accuracy: 0.7285\n",
            "Epoch 16/50\n",
            "140/140 [==============================] - 1s 5ms/step - loss: 0.6708 - accuracy: 0.7588 - val_loss: 0.7244 - val_accuracy: 0.7348\n",
            "Epoch 17/50\n",
            "140/140 [==============================] - 1s 5ms/step - loss: 0.6472 - accuracy: 0.7696 - val_loss: 0.8789 - val_accuracy: 0.6720\n",
            "Epoch 18/50\n",
            "140/140 [==============================] - 1s 5ms/step - loss: 0.6378 - accuracy: 0.7689 - val_loss: 0.7679 - val_accuracy: 0.7204\n",
            "Epoch 19/50\n",
            "140/140 [==============================] - 1s 5ms/step - loss: 0.6206 - accuracy: 0.7718 - val_loss: 0.7060 - val_accuracy: 0.7455\n",
            "Epoch 20/50\n",
            "140/140 [==============================] - 1s 5ms/step - loss: 0.6034 - accuracy: 0.7808 - val_loss: 0.6581 - val_accuracy: 0.7509\n",
            "Epoch 21/50\n",
            "140/140 [==============================] - 1s 5ms/step - loss: 0.5872 - accuracy: 0.7900 - val_loss: 0.7175 - val_accuracy: 0.7267\n",
            "Epoch 22/50\n",
            "140/140 [==============================] - 1s 5ms/step - loss: 0.5719 - accuracy: 0.7933 - val_loss: 0.7945 - val_accuracy: 0.7016\n",
            "Epoch 23/50\n",
            "140/140 [==============================] - 1s 5ms/step - loss: 0.5559 - accuracy: 0.7998 - val_loss: 0.8208 - val_accuracy: 0.6918\n",
            "Epoch 24/50\n",
            "140/140 [==============================] - 1s 5ms/step - loss: 0.5422 - accuracy: 0.8056 - val_loss: 0.7210 - val_accuracy: 0.7392\n",
            "Epoch 25/50\n",
            "140/140 [==============================] - 1s 5ms/step - loss: 0.5277 - accuracy: 0.8137 - val_loss: 0.6288 - val_accuracy: 0.7652\n",
            "Epoch 26/50\n",
            "140/140 [==============================] - 1s 5ms/step - loss: 0.5162 - accuracy: 0.8191 - val_loss: 0.6505 - val_accuracy: 0.7572\n",
            "Epoch 27/50\n",
            "140/140 [==============================] - 1s 5ms/step - loss: 0.5037 - accuracy: 0.8166 - val_loss: 0.6554 - val_accuracy: 0.7616\n",
            "Epoch 28/50\n",
            "140/140 [==============================] - 1s 5ms/step - loss: 0.4892 - accuracy: 0.8263 - val_loss: 0.7575 - val_accuracy: 0.7159\n",
            "Epoch 29/50\n",
            "140/140 [==============================] - 1s 5ms/step - loss: 0.4721 - accuracy: 0.8355 - val_loss: 0.8070 - val_accuracy: 0.6756\n",
            "Epoch 30/50\n",
            "140/140 [==============================] - 1s 5ms/step - loss: 0.4658 - accuracy: 0.8379 - val_loss: 0.7374 - val_accuracy: 0.7213\n",
            "Epoch 31/50\n",
            "140/140 [==============================] - 1s 5ms/step - loss: 0.4526 - accuracy: 0.8330 - val_loss: 0.8471 - val_accuracy: 0.6962\n",
            "Epoch 32/50\n",
            "140/140 [==============================] - 1s 5ms/step - loss: 0.4369 - accuracy: 0.8433 - val_loss: 0.8383 - val_accuracy: 0.7052\n",
            "Epoch 33/50\n",
            "140/140 [==============================] - 1s 5ms/step - loss: 0.4259 - accuracy: 0.8496 - val_loss: 0.6282 - val_accuracy: 0.7769\n",
            "Epoch 34/50\n",
            "140/140 [==============================] - 1s 5ms/step - loss: 0.4191 - accuracy: 0.8532 - val_loss: 0.6465 - val_accuracy: 0.7482\n",
            "Epoch 35/50\n",
            "140/140 [==============================] - 1s 5ms/step - loss: 0.3964 - accuracy: 0.8637 - val_loss: 0.6530 - val_accuracy: 0.7545\n",
            "Epoch 36/50\n",
            "140/140 [==============================] - 1s 5ms/step - loss: 0.3897 - accuracy: 0.8653 - val_loss: 0.6680 - val_accuracy: 0.7599\n",
            "Epoch 37/50\n",
            "140/140 [==============================] - 1s 5ms/step - loss: 0.3746 - accuracy: 0.8704 - val_loss: 0.7627 - val_accuracy: 0.7419\n",
            "Epoch 38/50\n",
            "140/140 [==============================] - 1s 5ms/step - loss: 0.3654 - accuracy: 0.8736 - val_loss: 0.6218 - val_accuracy: 0.7769\n",
            "Epoch 39/50\n",
            "140/140 [==============================] - 1s 5ms/step - loss: 0.3461 - accuracy: 0.8830 - val_loss: 0.6832 - val_accuracy: 0.7473\n",
            "Epoch 40/50\n",
            "140/140 [==============================] - 1s 5ms/step - loss: 0.3438 - accuracy: 0.8812 - val_loss: 0.6529 - val_accuracy: 0.7661\n",
            "Epoch 41/50\n",
            "140/140 [==============================] - 1s 5ms/step - loss: 0.3236 - accuracy: 0.8821 - val_loss: 0.6793 - val_accuracy: 0.7608\n",
            "Epoch 42/50\n",
            "140/140 [==============================] - 1s 5ms/step - loss: 0.3172 - accuracy: 0.8893 - val_loss: 0.5803 - val_accuracy: 0.8002\n",
            "Epoch 43/50\n",
            "140/140 [==============================] - 1s 5ms/step - loss: 0.3028 - accuracy: 0.8964 - val_loss: 0.6164 - val_accuracy: 0.7778\n",
            "Epoch 44/50\n",
            "140/140 [==============================] - 1s 5ms/step - loss: 0.2872 - accuracy: 0.9014 - val_loss: 0.6334 - val_accuracy: 0.7778\n",
            "Epoch 45/50\n",
            "140/140 [==============================] - 1s 5ms/step - loss: 0.2790 - accuracy: 0.9063 - val_loss: 0.6271 - val_accuracy: 0.7805\n",
            "Epoch 46/50\n",
            "140/140 [==============================] - 1s 5ms/step - loss: 0.2703 - accuracy: 0.9038 - val_loss: 0.7081 - val_accuracy: 0.7527\n",
            "Epoch 47/50\n",
            "140/140 [==============================] - 1s 5ms/step - loss: 0.2577 - accuracy: 0.9110 - val_loss: 0.6549 - val_accuracy: 0.7742\n",
            "Epoch 48/50\n",
            "140/140 [==============================] - 1s 5ms/step - loss: 0.2484 - accuracy: 0.9162 - val_loss: 0.6421 - val_accuracy: 0.7823\n",
            "Epoch 49/50\n",
            "140/140 [==============================] - 1s 5ms/step - loss: 0.2424 - accuracy: 0.9164 - val_loss: 0.7006 - val_accuracy: 0.7706\n",
            "Epoch 50/50\n",
            "140/140 [==============================] - 1s 5ms/step - loss: 0.2278 - accuracy: 0.9224 - val_loss: 0.6549 - val_accuracy: 0.7751\n"
          ],
          "name": "stdout"
        }
      ]
    },
    {
      "cell_type": "markdown",
      "metadata": {
        "id": "WwjNMmwRG703",
        "colab_type": "text"
      },
      "source": [
        "## Evaluate the training model"
      ]
    },
    {
      "cell_type": "code",
      "metadata": {
        "id": "4jbUSmegG_JD",
        "colab_type": "code",
        "colab": {}
      },
      "source": [
        "# 定義一個show_train_history function\n",
        "def show_train_history(train_history, train, validation):\n",
        "    plt.plot(train_history.history[train])\n",
        "    plt.plot(train_history.history[validation])\n",
        "    plt.title('Train History')\n",
        "    plt.ylabel('train')\n",
        "    plt.xlabel('Epoch')\n",
        "    plt.legend(['train', 'validation'], loc='center right')\n",
        "    plt.show()"
      ],
      "execution_count": 11,
      "outputs": []
    },
    {
      "cell_type": "code",
      "metadata": {
        "id": "CGwyTtI1HBZ5",
        "colab_type": "code",
        "colab": {
          "base_uri": "https://localhost:8080/",
          "height": 295
        },
        "outputId": "6af301fd-79f3-4e7b-87e4-be83f5c9d4f1"
      },
      "source": [
        "# 畫出train與test dataset 訓練過程的準確率\n",
        "show_train_history(train_history, 'accuracy', 'val_accuracy')"
      ],
      "execution_count": 12,
      "outputs": [
        {
          "output_type": "display_data",
          "data": {
            "image/png": "[encoded data removed]",
            "text/plain": [
              "<Figure size 432x288 with 1 Axes>"
            ]
          },
          "metadata": {
            "tags": [],
            "needs_background": "light"
          }
        }
      ]
    },
    {
      "cell_type": "markdown",
      "metadata": {
        "id": "l0aA-aefSkSc",
        "colab_type": "text"
      },
      "source": [
        "有比前一個模型更接近，但仍有差距"
      ]
    },
    {
      "cell_type": "code",
      "metadata": {
        "id": "oGVztdiZHEpu",
        "colab_type": "code",
        "colab": {
          "base_uri": "https://localhost:8080/",
          "height": 295
        },
        "outputId": "7d439e6e-3e0a-4660-9d91-a64844fabf1d"
      },
      "source": [
        "# 畫出train與test dataset訓練過程的誤差率\n",
        "show_train_history(train_history, 'loss', 'val_loss')"
      ],
      "execution_count": 13,
      "outputs": [
        {
          "output_type": "display_data",
          "data": {
            "image/png": "[encoded data removed]",
            "text/plain": [
              "<Figure size 432x288 with 1 Axes>"
            ]
          },
          "metadata": {
            "tags": [],
            "needs_background": "light"
          }
        }
      ]
    },
    {
      "cell_type": "code",
      "metadata": {
        "id": "_U29LlQtHHPU",
        "colab_type": "code",
        "colab": {
          "base_uri": "https://localhost:8080/",
          "height": 51
        },
        "outputId": "05f8c5f6-e645-4769-a3c5-17716b0da5dd"
      },
      "source": [
        "scores = model.evaluate(x_test, y_test)\n",
        "scores[1]"
      ],
      "execution_count": 14,
      "outputs": [
        {
          "output_type": "stream",
          "text": [
            "44/44 [==============================] - 0s 3ms/step - loss: 0.7401 - accuracy: 0.7656\n"
          ],
          "name": "stdout"
        },
        {
          "output_type": "execute_result",
          "data": {
            "text/plain": [
              "0.7655913829803467"
            ]
          },
          "metadata": {
            "tags": []
          },
          "execution_count": 14
        }
      ]
    },
    {
      "cell_type": "code",
      "metadata": {
        "id": "72p7xXqmHZJy",
        "colab_type": "code",
        "colab": {}
      },
      "source": [
        ""
      ],
      "execution_count": null,
      "outputs": []
    }
  ]
}